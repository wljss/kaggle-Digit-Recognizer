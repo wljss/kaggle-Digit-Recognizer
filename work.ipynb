{
 "cells": [
  {
   "cell_type": "code",
   "execution_count": null,
   "id": "6360d443",
   "metadata": {},
   "outputs": [
    {
     "name": "stdout",
     "output_type": "stream",
     "text": [
      "数字为 : 1\n",
      "............................\n",
      "............................\n",
      "............................\n",
      "............................\n",
      "....................###.....\n",
      "...................####.....\n",
      "..................#####.....\n",
      ".................#####......\n",
      "................#####.......\n",
      "...............#####........\n",
      "..............######........\n",
      ".............#####..........\n",
      "............######..........\n",
      "............#####...........\n",
      "...........######...........\n",
      "...........#####............\n",
      "..........#####.............\n",
      ".........#####..............\n",
      ".........####...............\n",
      "........#####...............\n",
      ".......#####................\n",
      ".......#####................\n",
      ".......#####................\n",
      "........###.................\n",
      "............................\n",
      "............................\n",
      "............................\n",
      "............................\n"
     ]
    }
   ],
   "source": [
    "#读取数据\n",
    "import pandas as pd\n",
    "import torch\n",
    "import torch.nn as nn\n",
    "import numpy as np\n",
    "\n",
    "\n",
    "train_data = pd.read_csv(\"digit-recognizer-data/train.csv\")\n",
    "\n",
    "'''长教训了QAQ，下面这种写法是错误的\n",
    "trainX=train_data.values[:][1:]\n",
    "trainY=train_data.values[:][0]\n",
    "'''\n",
    "trainX=train_data.values[:,1:]\n",
    "trainY=train_data.values[:,0]\n",
    "#print(trainX.shape)\n",
    "#print(trainY.shape)\n",
    "\n",
    "test_data = pd.read_csv(\"digit-recognizer-data/test.csv\")\n",
    "testX=test_data.values[:,1:]\n",
    "testY=test_data.values[:,0]\n",
    "\n",
    "#print(train_data.columns)#输出表头信息\n",
    "\n",
    "def printImage(id): #可以打印成图像输出\n",
    "    print('数字为 : ' + str( trainY[id] ))\n",
    "    for i in range(28):\n",
    "        for j in range(28):\n",
    "            print('#' if trainX[id][i*28+j] >0 else '.' ,end=\"\")\n",
    "        print()\n",
    "\n",
    "#printImage(0)\n",
    "\n"
   ]
  },
  {
   "cell_type": "code",
   "execution_count": null,
   "id": "09b8603c",
   "metadata": {},
   "outputs": [],
   "source": [
    "class digitRecognizerModule(nn.Module):#神经网络模型\n",
    "    def __init__(self):\n",
    "        super().__init__()\n",
    "    def forward(self,x):\n",
    "        pass"
   ]
  }
 ],
 "metadata": {
  "kernelspec": {
   "display_name": "jqxx",
   "language": "python",
   "name": "python3"
  },
  "language_info": {
   "codemirror_mode": {
    "name": "ipython",
    "version": 3
   },
   "file_extension": ".py",
   "mimetype": "text/x-python",
   "name": "python",
   "nbconvert_exporter": "python",
   "pygments_lexer": "ipython3",
   "version": "3.7.16"
  }
 },
 "nbformat": 4,
 "nbformat_minor": 5
}
