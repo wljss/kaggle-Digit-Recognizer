{
 "cells": [
  {
   "cell_type": "code",
   "execution_count": 1,
   "id": "6360d443",
   "metadata": {},
   "outputs": [
    {
     "name": "stderr",
     "output_type": "stream",
     "text": [
      "c:\\Users\\24508\\Anaconda3\\envs\\jqxx\\lib\\site-packages\\tqdm\\auto.py:22: TqdmWarning: IProgress not found. Please update jupyter and ipywidgets. See https://ipywidgets.readthedocs.io/en/stable/user_install.html\n",
      "  from .autonotebook import tqdm as notebook_tqdm\n"
     ]
    }
   ],
   "source": [
    "#读取数据\n",
    "import pandas as pd\n",
    "import torch\n",
    "import torch.nn as nn\n",
    "import numpy as np\n",
    "\n",
    "\n",
    "train_data = pd.read_csv(\"digit-recognizer-data/train.csv\")\n",
    "\n",
    "'''长教训了QAQ，下面这种写法是错误的\n",
    "trainX=train_data.values[:][1:]\n",
    "trainY=train_data.values[:][0]\n",
    "'''\n",
    "trainX=train_data.values[:,1:]\n",
    "trainY=train_data.values[:,0]\n",
    "#print(trainX.shape)\n",
    "#print(trainY.shape)\n",
    "\n",
    "test_data = pd.read_csv(\"digit-recognizer-data/test.csv\")\n",
    "testX=test_data.values[:,1:]\n",
    "testY=test_data.values[:,0]\n",
    "\n",
    "#print(train_data.columns)#输出表头信息\n",
    "\n",
    "def printImage(id): #可以打印成图像输出\n",
    "    print('数字为 : ' + str( trainY[id] ))\n",
    "    for i in range(28):\n",
    "        for j in range(28):\n",
    "            print('#' if trainX[id][i*28+j] >0 else '.' ,end=\"\")\n",
    "        print()\n",
    "\n",
    "#printImage(0)\n",
    "\n"
   ]
  },
  {
   "cell_type": "code",
   "execution_count": 2,
   "id": "09b8603c",
   "metadata": {},
   "outputs": [],
   "source": [
    "class digitRecognizerModule(nn.Module):#神经网络模型\n",
    "    def __init__(self):\n",
    "        super().__init__()\n",
    "        # 输入尺寸1×28×28\n",
    "        self.conv1 = nn.Conv2d(in_channels=1, out_channels=16,  # 输入通道1 输出通道16\n",
    "                               kernel_size=(3, 3),  # 卷积核尺寸\n",
    "                               stride=(1, 1),  # 卷积核每次移动多少个像素\n",
    "                               padding=1)  # 原图片边缘加几个空白像素\n",
    "        # conv1输出尺寸16×28×28\n",
    "        self.pool1 = nn.MaxPool2d(kernel_size=2)  #第一次池化，输出尺寸16×14×14\n",
    "        self.conv2 = nn.Conv2d(16, 32, 3, 1, 1)  #第二次卷积，输出尺寸32×14×14\n",
    "        self.pool2 = nn.MaxPool2d(2)  #第二次池化，输出尺寸32×7×7\n",
    "        self.zhankai = nn.Flatten()#展平为张量，输出尺寸是一维1568(32*7*7)\n",
    "        self.lin1 = nn.Linear(32 * 7 * 7, 16)#输出尺寸16\n",
    "        self.jihuo = nn.ReLU()#激活函数\n",
    "        self.lin2 = nn.Linear(16, 10)#输出尺寸10\n",
    "    def forward(self,x):\n",
    "        x = self.conv1(x)\n",
    "        x = self.pool1(x)\n",
    "        x = self.conv2(x)\n",
    "        x = self.pool2(x)\n",
    "        x = self.zhankai(x)\n",
    "        x = self.lin1(x)\n",
    "        x = self.jihuo(x)\n",
    "        x = self.lin2(x)\n",
    "        return x"
   ]
  },
  {
   "cell_type": "code",
   "execution_count": null,
   "id": "4fbac297",
   "metadata": {},
   "outputs": [
    {
     "name": "stdout",
     "output_type": "stream",
     "text": [
      "Epoch [1/10] | Loss: 0.5695 | Accuracy: 80.91%\n",
      "Epoch [2/10] | Loss: 0.0997 | Accuracy: 96.94%\n",
      "Epoch [3/10] | Loss: 0.0676 | Accuracy: 97.89%\n",
      "Epoch [4/10] | Loss: 0.0527 | Accuracy: 98.42%\n",
      "Epoch [5/10] | Loss: 0.0438 | Accuracy: 98.69%\n",
      "Epoch [6/10] | Loss: 0.0373 | Accuracy: 98.94%\n",
      "Epoch [7/10] | Loss: 0.0320 | Accuracy: 99.11%\n",
      "Epoch [8/10] | Loss: 0.0277 | Accuracy: 99.26%\n",
      "Epoch [9/10] | Loss: 0.0242 | Accuracy: 99.33%\n",
      "Epoch [10/10] | Loss: 0.0209 | Accuracy: 99.44%\n"
     ]
    }
   ],
   "source": [
    "net = digitRecognizerModule()\n",
    "calcLoss = nn.CrossEntropyLoss() #loss用交叉熵来计算\n",
    "optimizer = torch.optim.SGD(net.parameters(), lr=0.2) #optimizer是优化器，这里使用SGD随机梯度下降。lr是学习率\n",
    "\n",
    "epochs = 10 #迭代次数\n",
    "batch_size  = 128 #每批数据的大小为128，那么就有len(trainX)//barch批，每批数据的范围是[i * batch，(i+1) * batch)\n",
    "\n",
    "# 记录训练过程\n",
    "train_losses = [] #每个batch的损失\n",
    "epoch_losses = [] #每个epoch的平均损失\n",
    "train_accuracies = [] #每个epoch的准确率\n",
    "\n",
    "for epoch in range(epochs):\n",
    "    epoch_loss = 0.0\n",
    "    correct = 0\n",
    "    total = 0\n",
    "    for i in range(len(trainX)//batch_size ):\n",
    "        L = i * batch_size  \n",
    "        R = (i+1) * batch_size \n",
    "        tmpX = trainX[L:R] / 255 #取出来这一批的数据并转为0~1的深度\n",
    "        tmpX = tmpX.reshape(batch_size , 1, 28, 28) #转化形式，变成能输入网络的形式\n",
    "        tmpX = torch.from_numpy(tmpX).float() #将numpy转为PyTorch张量\n",
    "\n",
    "        tmpY = trainY[L:R] #Y同理\n",
    "        tmpY = torch.from_numpy(tmpY)\n",
    "\n",
    "        outputs = net(tmpX) #得到网络输出\n",
    "\n",
    "        \n",
    "        optimizer.zero_grad() #清空模型参数梯度\n",
    "        loss = calcLoss(outputs, tmpY)\n",
    "        loss.backward() #计算损失函数对模型参数的梯度\n",
    "        optimizer.step() #更新模型参数\n",
    "\n",
    "\n",
    "        #计算准确率\n",
    "        _, predicted = torch.max(outputs.data, 1) #沿着张量的第1维计算最大值，返回最大值以及索引\n",
    "        total += tmpY.size(0)\n",
    "        correct += (predicted == tmpY).sum().item()\n",
    "        #记录当前batch损失\n",
    "        current_loss = loss.item()\n",
    "        train_losses.append(current_loss)\n",
    "        epoch_loss += current_loss\n",
    "    \n",
    "    #计算epoch指标\n",
    "    epoch_losses.append(epoch_loss / (len(trainX) // batch_size))\n",
    "    train_accuracies.append(100 * correct / total)\n",
    "    \n",
    "    print(f\"Epoch [{epoch+1}/{epochs}] | \"\n",
    "          f\"Loss: {epoch_loss / (len(trainX) // batch_size):.4f} | \"\n",
    "          f\"Accuracy: {100 * correct / total:.2f}%\")\n",
    "\n"
   ]
  }
 ],
 "metadata": {
  "kernelspec": {
   "display_name": "jqxx",
   "language": "python",
   "name": "python3"
  },
  "language_info": {
   "codemirror_mode": {
    "name": "ipython",
    "version": 3
   },
   "file_extension": ".py",
   "mimetype": "text/x-python",
   "name": "python",
   "nbconvert_exporter": "python",
   "pygments_lexer": "ipython3",
   "version": "3.7.16"
  }
 },
 "nbformat": 4,
 "nbformat_minor": 5
}
